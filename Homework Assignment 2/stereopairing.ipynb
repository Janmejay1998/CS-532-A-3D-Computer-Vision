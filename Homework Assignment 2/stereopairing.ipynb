{
 "cells": [
  {
   "cell_type": "code",
   "execution_count": null,
   "metadata": {},
   "outputs": [],
   "source": [
    "# NAME : JANMEJAY MOHANTY\n",
    "# CITE : https://learnopencv.com/depth-perception-using-stereo-camera-python-c/"
   ]
  },
  {
   "cell_type": "code",
   "execution_count": null,
   "metadata": {},
   "outputs": [],
   "source": [
    "# Importing The Necessary Python Files\n",
    "import numpy as np\n",
    "from PIL import Image"
   ]
  },
  {
   "cell_type": "code",
   "execution_count": null,
   "metadata": {},
   "outputs": [],
   "source": [
    "# Defining A Function For Computing The Rank Transfrom \n",
    "def image_rank_transform(image_file,window_size):\n",
    "    trim = int((window_size-1)/2)\n",
    "    w,h = image_file.shape\n",
    "    rank = np.zeros((w,h),dtype=\"int64\")\n",
    "    for i in range(0,w):\n",
    "        for j in range(0,h):\n",
    "            for x in range(i-trim,i+trim):\n",
    "                for y in range(j-trim,j+trim):\n",
    "                    if(0<=x<w and 0<=y<h):\n",
    "                        if(image_file[x][y] < image_file[i][j]):\n",
    "                            rank[i][j]+=1\n",
    "    return rank"
   ]
  },
  {
   "cell_type": "code",
   "execution_count": null,
   "metadata": {},
   "outputs": [],
   "source": [
    "# Defining A Function For Computing A Python Dictionary With The Key\n",
    "def disp_dict(imgage_file,window_size):\n",
    "    trim = int((window_size-1)/2)\n",
    "    w, h = imgage_file.shape\n",
    "    dict = {}\n",
    "    for i in range(0,w):\n",
    "        for j in range(0,h):\n",
    "            tuple = (i,j)\n",
    "            array = np.zeros((window_size,window_size),dtype=\"int64\")\n",
    "            for x in range(-trim,trim):\n",
    "                for y in range(-trim,trim):\n",
    "                    if(0<=x+i<w and 0<=y+j<h):\n",
    "                        array[x+trim][y+trim] = imgage_file[i+x][j+y]\n",
    "            dict[tuple] = array\n",
    "    return dict"
   ]
  },
  {
   "cell_type": "code",
   "execution_count": null,
   "metadata": {},
   "outputs": [],
   "source": [
    "# Defining A Function For Computing The Sum Of Absolute Differences (SAD)\n",
    "def SAD(array1,array2):\n",
    "    l = len(array1)\n",
    "    sub = np.subtract(array1, array2)\n",
    "    total_sad = 0\n",
    "    for i in range(l):\n",
    "        for j in range(l):\n",
    "            total_sad += abs(sub[i][j])\n",
    "    return total_sad"
   ]
  },
  {
   "cell_type": "code",
   "execution_count": null,
   "metadata": {},
   "outputs": [],
   "source": [
    "# Defining A Function For Computing The Disparity Map Of Images\n",
    "def disp(w,h,dict1,dict2,dir):\n",
    "    disparity_map = np.zeros((w,h),dtype=\"uint8\")\n",
    "    for i in range(0,w):\n",
    "        for j in range(0,h):\n",
    "            array1 = dict1[(i,j)]\n",
    "            best = 0\n",
    "            for d in range(64):\n",
    "                jd = j-d\n",
    "                if(dir == 'right'):\n",
    "                    jd = j+d\n",
    "                if(jd>=0 and jd<h):\n",
    "                    array2 = dict2[(i,jd)]\n",
    "                    sad = SAD(array1,array2)\n",
    "                    if(d == 0 or sad < best):\n",
    "                        disparity_map[i][j] = abs(d)\n",
    "                        best = sad\n",
    "                    if(sad == 0):\n",
    "                        disparity_map[i][j] = abs(d)\n",
    "                        break\n",
    "    return disparity_map"
   ]
  },
  {
   "cell_type": "code",
   "execution_count": null,
   "metadata": {},
   "outputs": [],
   "source": [
    "# Defining A Function For Computing The Error Rates\n",
    "def error_rate(image_file, disparity):\n",
    "    image_array = np.asarray(image_file)\n",
    "    disparity_array = np.asarray(disparity)\n",
    "    w, h = disparity_array.shape\n",
    "    total_pix = w * h\n",
    "    bad_pix = 0\n",
    "    for i in range(w):\n",
    "        for j in range(h):\n",
    "            div_f = round(image_array[i][j]/4)\n",
    "            if disparity_array[i][j]-div_f > 1:\n",
    "                bad_pix +=1\n",
    "            elif disparity_array[i][j]-div_f < -1:\n",
    "                bad_pix +=1\n",
    "    error = float(bad_pix/total_pix)\n",
    "    error = error * 100\n",
    "    print(\"Error Rate: \"+str(round(error, 2))+\"%\")"
   ]
  },
  {
   "cell_type": "code",
   "execution_count": null,
   "metadata": {},
   "outputs": [],
   "source": [
    "# Defining A Function For Computing The Matching Confidence Using The PKRN Measure\n",
    "def pkrn_disp(w,h,disp,dict1,dict2,dir):\n",
    "    disparity_map = np.zeros((w,h))\n",
    "    for i in range(0,w):\n",
    "        for j in range(0,h):\n",
    "            array1 = dict1[(i,j)]\n",
    "            best = SAD(array1, dict2[(i,j)])\n",
    "            best2 = best\n",
    "            for d in range(64):\n",
    "                jd = j-d\n",
    "                if(dir == 'right'):\n",
    "                    jd = j+d\n",
    "                if(jd>=0 and jd<h):\n",
    "                    arr2 = dict2[(i,jd)]\n",
    "                    sad = SAD(array1,arr2)\n",
    "                    if(sad < best):\n",
    "                        best2 = best\n",
    "                        best = sad\n",
    "                    if(sad < best2 and sad > best):\n",
    "                        best2 = sad\n",
    "            if(best != 0):\n",
    "                disparity_map[i][j] = (best2/best)*4\n",
    "            else:\n",
    "                disparity_map[i][j] = 256\n",
    "    median = np.median(disparity_map)\n",
    "    pixel_count = 0\n",
    "    for i in range(0,w):\n",
    "        for j in range(0,h):\n",
    "            if(disparity_map[i][j] < median):\n",
    "                disp[i][j] = 0\n",
    "            else: \n",
    "                pixel_count+=1\n",
    "    print(\"Pixels Count: \",pixel_count)  \n",
    "    return disp"
   ]
  },
  {
   "cell_type": "code",
   "execution_count": null,
   "metadata": {},
   "outputs": [],
   "source": [
    "image = Image.open(\"disp2.pgm\")\n",
    "left = Image.open(\"teddyL.pgm\")\n",
    "right = Image.open(\"teddyR.pgm\")    \n",
    "h, w = image.size"
   ]
  },
  {
   "cell_type": "code",
   "execution_count": null,
   "metadata": {},
   "outputs": [],
   "source": [
    "# Implementing The Rank Transform In 5X5 Windows For Both Left And Right Images\n",
    "print(\"Inititating The Rank Transform 5X5 !!!!!!\")\n",
    "l_rank = image_rank_transform(np.array(left),5)\n",
    "r_rank = image_rank_transform(np.array(right),5)\n",
    "print(\"Rank Transform 5x5 Successfully Completed\")"
   ]
  },
  {
   "cell_type": "code",
   "execution_count": null,
   "metadata": {},
   "outputs": [],
   "source": [
    "# Implementing The 3x3 Disparity Map For Both Ranked Transform Left And Right Images\n",
    "print(\"Inititating 3X3 Disparity Map !!!!!!\")\n",
    "ldict = disp_dict(l_rank,3)\n",
    "rdict = disp_dict(r_rank,3)\n",
    "\n",
    "ldisp = disp(w,h,ldict,rdict,'left')\n",
    "rdisp = disp(w,h,rdict,ldict,'right')\n",
    "dim1 = Image.fromarray(ldisp)\n",
    "dim1.show()\n",
    "dim2 = Image.fromarray(rdisp)\n",
    "dim2.show()\n",
    "error_rate(image,dim1)\n",
    "error_rate(image,dim2)\n",
    "print(\"3X3 Disparity Map Successfully Completed\")"
   ]
  },
  {
   "cell_type": "code",
   "execution_count": null,
   "metadata": {},
   "outputs": [],
   "source": [
    "# Implementing The 15x15 Disparity Map For Both Ranked Transform Left And Right Images\n",
    "print(\"Inititating 15X15 Disparity Map !!!!!!\")\n",
    "ldict2 = disp_dict(l_rank,15)\n",
    "rdict2 = disp_dict(r_rank,15)\n",
    "\n",
    "ldisp2 = disp(w,h,ldict2,rdict2,'left')\n",
    "rdisp2 = disp(w,h,rdict2,ldict2,'right')\n",
    "dim3 = Image.fromarray(ldisp2)\n",
    "dim3.show()\n",
    "dim4 = Image.fromarray(rdisp2)\n",
    "dim4.show()\n",
    "error_rate(image,dim3)\n",
    "error_rate(image,dim4)\n",
    "print(\"15X15 Disparity Map Successfully Completed\")"
   ]
  },
  {
   "cell_type": "code",
   "execution_count": null,
   "metadata": {},
   "outputs": [],
   "source": [
    "print(\"Inititating PKRN Disparity Map !!!!!!\")\n",
    "pkrn_ldisp = pkrn_disp(w,h,ldisp2,ldict,rdict,'left')\n",
    "pkrn_dim1 = Image.fromarray(pkrn_ldisp)\n",
    "pkrn_dim1.show()\n",
    "error_rate(image,pkrn_dim1)\n",
    "pkrn_rdisp = pkrn_disp(w,h,rdisp2,rdict,ldict,'right')\n",
    "pkrn_dim2 = Image.fromarray(pkrn_rdisp)\n",
    "pkrn_dim2.show()\n",
    "error_rate(image,pkrn_dim2)\n",
    "print(\"PKRN Disparity Map Successfully Completed\")"
   ]
  }
 ],
 "metadata": {
  "interpreter": {
   "hash": "dcb9f67ecd29cd34d9ea8502bb81caabe278bd700c016110a0797d8966092eea"
  },
  "kernelspec": {
   "display_name": "Python 3.10.2 64-bit",
   "language": "python",
   "name": "python3"
  },
  "language_info": {
   "codemirror_mode": {
    "name": "ipython",
    "version": 3
   },
   "file_extension": ".py",
   "mimetype": "text/x-python",
   "name": "python",
   "nbconvert_exporter": "python",
   "pygments_lexer": "ipython3",
   "version": "3.10.2"
  },
  "orig_nbformat": 4
 },
 "nbformat": 4,
 "nbformat_minor": 2
}
