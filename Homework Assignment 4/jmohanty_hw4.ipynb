{
 "cells": [
  {
   "cell_type": "code",
   "execution_count": 47,
   "metadata": {},
   "outputs": [],
   "source": [
    "import numpy as np\n",
    "import open3d as o3d\n",
    "from IPython.display import Image\n",
    "import cv2\n",
    "import math"
   ]
  },
  {
   "cell_type": "code",
   "execution_count": 48,
   "metadata": {},
   "outputs": [],
   "source": [
    "def Gaussian_func(image,weight):\n",
    "    sigma = (weight-1)/6\n",
    "    gauss = np.zeros((weight,weight))\n",
    "    for i in range(weight):\n",
    "        for j in range(weight):\n",
    "            gauss[i,j] = math.exp(-((i)**2+(j)**2)/(2*sigma**2))/(2*math.pi*sigma**2)\n",
    "    return cv2.filter2D(image,-1,gauss)"
   ]
  },
  {
   "cell_type": "code",
   "execution_count": 49,
   "metadata": {},
   "outputs": [],
   "source": [
    "def Suppression_func(image):\n",
    "    height,breadth = image.shape\n",
    "    result = np.zeros((height,breadth))\n",
    "    for i in range(2,(height - 1)):\n",
    "        for j in range(2,(breadth - 1)):\n",
    "            suppress = image[i-1:i+1, j-1:j+1]\n",
    "            if(image[i,j] == suppress.max()):\n",
    "                result[i,j] = image[i,j]\n",
    "    return result"
   ]
  },
  {
   "cell_type": "code",
   "execution_count": 50,
   "metadata": {},
   "outputs": [
    {
     "name": "stdout",
     "output_type": "stream",
     "text": [
      "[[-1 -1 -1]\n",
      " [ 0  0  0]\n",
      " [ 1  1  1]]\n"
     ]
    }
   ],
   "source": [
    "Dict_depth = {}\n",
    "Dict_rgb = {}\n",
    "Dict_gauss = {}\n",
    "for i in range(3):\n",
    "    Dict_depth[i] = cv2.imread(\"problem1/depth\" + str(i+1) + \".png\")\n",
    "    Dict_rgb[i] = cv2.imread(\"problem1/rgb\" + str(i+1) + \".png\")\n",
    "    Dict_gauss[i] = cv2.cvtColor(Dict_rgb[i], cv2.COLOR_BGR2GRAY)\n",
    "Kernel_x = np.array([[-1,0,1],[-1,0,1],[-1,0,1]])\n",
    "Kernel_y = np.transpose(Kernel_x)\n",
    "print(Kernel_y)"
   ]
  },
  {
   "cell_type": "code",
   "execution_count": 51,
   "metadata": {},
   "outputs": [],
   "source": [
    "x_1 = cv2.filter2D(Dict_gauss[0],-1,Kernel_x)\n",
    "x_2 = cv2.filter2D(Dict_gauss[1],-1,Kernel_x)\n",
    "x_3 = cv2.filter2D(Dict_gauss[2],-1,Kernel_x)\n",
    "\n",
    "y_1 = cv2.filter2D(Dict_gauss[0],-1,Kernel_y)\n",
    "y_2 = cv2.filter2D(Dict_gauss[1],-1,Kernel_y)\n",
    "y_3 = cv2.filter2D(Dict_gauss[2],-1,Kernel_y)\n",
    "\n",
    "X_1 = cv2.filter2D(x_1,-1,Kernel_x)\n",
    "X_2 = cv2.filter2D(x_2,-1,Kernel_x)\n",
    "X_3 = cv2.filter2D(x_3,-1,Kernel_x)\n",
    "\n",
    "XY_1 = cv2.filter2D(y_1,-1,Kernel_x)\n",
    "XY_2 = cv2.filter2D(y_2,-1,Kernel_x)\n",
    "XY_3 = cv2.filter2D(y_3,-1,Kernel_x)\n",
    "\n",
    "Y_1 = cv2.filter2D(y_1,-1,Kernel_y)\n",
    "Y_2 = cv2.filter2D(y_2,-1,Kernel_y)\n",
    "Y_3 = cv2.filter2D(y_3,-1,Kernel_y)"
   ]
  },
  {
   "cell_type": "code",
   "execution_count": 52,
   "metadata": {},
   "outputs": [],
   "source": [
    "# Apply Gaussian smoothing to the derivatives using the 5x5 filter \n",
    "Gauss_X_1 = Gaussian_func(X_1,5)\n",
    "Gauss_X_2 = Gaussian_func(X_2,5)\n",
    "Gauss_X_3 = Gaussian_func(X_3,5)\n",
    "\n",
    "Gauss_XY_1 = Gaussian_func(XY_1,5)\n",
    "Gauss_XY_2 = Gaussian_func(XY_2,5)\n",
    "Gauss_XY_3 = Gaussian_func(XY_3,5)\n",
    "\n",
    "Gauss_Y_1 = Gaussian_func(Y_1,5)\n",
    "Gauss_Y_2 = Gaussian_func(Y_2,5)\n",
    "Gauss_Y_3 = Gaussian_func(Y_3,5)"
   ]
  },
  {
   "cell_type": "code",
   "execution_count": 53,
   "metadata": {},
   "outputs": [
    {
     "data": {
      "text/plain": [
       "-1"
      ]
     },
     "execution_count": 53,
     "metadata": {},
     "output_type": "execute_result"
    }
   ],
   "source": [
    "cv2.imshow(\"X_1\", X_1)\n",
    "cv2.imshow(\"XY_1\", XY_1)\n",
    "cv2.imshow(\"Y_1\", Y_1)\n",
    "cv2.imshow(\"Gauss_X_1\", Gauss_X_1)\n",
    "cv2.imshow(\"Gauss_XY_1\", Gauss_XY_1)\n",
    "cv2.imshow(\"Gauss_Y_1\", Gauss_Y_1)\n",
    "cv2.waitKey(0)"
   ]
  },
  {
   "cell_type": "code",
   "execution_count": 54,
   "metadata": {},
   "outputs": [],
   "source": [
    "a = 0.05"
   ]
  },
  {
   "cell_type": "code",
   "execution_count": 55,
   "metadata": {},
   "outputs": [
    {
     "data": {
      "text/plain": [
       "-1"
      ]
     },
     "execution_count": 55,
     "metadata": {},
     "output_type": "execute_result"
    }
   ],
   "source": [
    "mr = np.multiply(Gauss_X_1,Gauss_Y_1)\n",
    "mr = (np.multiply(Gauss_X_1,Gauss_Y_1) - np.square(Gauss_XY_1,Gauss_XY_1)) - a*np.square(Gauss_X_1+Gauss_Y_1)\n",
    "cv2.imshow(\"Rendered Image\", mr)\n",
    "cv2.waitKey(0)\n",
    "sup = Suppression_func(mr)\n",
    "cv2.imshow(\"Supressed Image\", sup)\n",
    "cv2.waitKey(0)"
   ]
  }
 ],
 "metadata": {
  "interpreter": {
   "hash": "a0624dec9b47ad8fef0bd67c19b115b4dbf69c45ac177bab83f84df399df6d09"
  },
  "kernelspec": {
   "display_name": "Python 3.9.0 64-bit",
   "language": "python",
   "name": "python3"
  },
  "language_info": {
   "codemirror_mode": {
    "name": "ipython",
    "version": 3
   },
   "file_extension": ".py",
   "mimetype": "text/x-python",
   "name": "python",
   "nbconvert_exporter": "python",
   "pygments_lexer": "ipython3",
   "version": "3.9.0"
  },
  "orig_nbformat": 4
 },
 "nbformat": 4,
 "nbformat_minor": 2
}
